{
  "nbformat": 4,
  "nbformat_minor": 0,
  "metadata": {
    "colab": {
      "name": "DataScience-Numpy.ipynb",
      "provenance": [],
      "collapsed_sections": [],
      "authorship_tag": "ABX9TyP4BtdKYCvlgeMUlBSYS7HR",
      "include_colab_link": true
    },
    "kernelspec": {
      "name": "python3",
      "display_name": "Python 3"
    },
    "accelerator": "GPU"
  },
  "cells": [
    {
      "cell_type": "markdown",
      "metadata": {
        "id": "view-in-github",
        "colab_type": "text"
      },
      "source": [
        "<a href=\"https://colab.research.google.com/github/bhadreshpsavani/ExploringDataScience/blob/master/DataScience_Numpy.ipynb\" target=\"_parent\"><img src=\"https://colab.research.google.com/assets/colab-badge.svg\" alt=\"Open In Colab\"/></a>"
      ]
    },
    {
      "cell_type": "code",
      "metadata": {
        "id": "s63OVXjcFuwG"
      },
      "source": [
        "import numpy as np"
      ],
      "execution_count": 2,
      "outputs": []
    },
    {
      "cell_type": "markdown",
      "metadata": {
        "id": "gA6ttDQhF2zR"
      },
      "source": [
        "## Check Normal List Size:"
      ]
    },
    {
      "cell_type": "code",
      "metadata": {
        "id": "j5NADLAKF2Ge",
        "colab": {
          "base_uri": "https://localhost:8080/"
        },
        "outputId": "9519439c-b059-40db-9dec-42ffcf4f0e19"
      },
      "source": [
        "# Input\n",
        "lst = [5, 10, 0, 200]\n",
        "# Expected Output:\n",
        "# [10, 15, 5, 205]  \n",
        "lst"
      ],
      "execution_count": null,
      "outputs": [
        {
          "output_type": "execute_result",
          "data": {
            "text/plain": [
              "[5, 10, 0, 200]"
            ]
          },
          "metadata": {
            "tags": []
          },
          "execution_count": 2
        }
      ]
    },
    {
      "cell_type": "code",
      "metadata": {
        "id": "UHnfpqhQF70-",
        "colab": {
          "base_uri": "https://localhost:8080/"
        },
        "outputId": "5ccd9cca-60c9-4262-c06c-08aaaaa49592"
      },
      "source": [
        "# Input\n",
        "lst = [1, 2, 3, 'text', True, 3+2j]\n",
        "# Expected output:\n",
        "# A pure homogeneous vector, all 6 elements converted into a single datatype. \n",
        "for i in lst:\n",
        "  print(i, type(i))"
      ],
      "execution_count": null,
      "outputs": [
        {
          "output_type": "stream",
          "text": [
            "1 <class 'int'>\n",
            "2 <class 'int'>\n",
            "3 <class 'int'>\n",
            "text <class 'str'>\n",
            "True <class 'bool'>\n",
            "(3+2j) <class 'complex'>\n"
          ],
          "name": "stdout"
        }
      ]
    },
    {
      "cell_type": "code",
      "metadata": {
        "id": "iUcToL3iGDw7",
        "colab": {
          "base_uri": "https://localhost:8080/"
        },
        "outputId": "ca21f9dd-4814-4b96-9cdb-b0ca90d21639"
      },
      "source": [
        "import sys\n",
        "# Input\n",
        "lst = [56, 45, 12, 6] \n",
        "# Expected output:\n",
        "# 16 \n",
        "sys.getsizeof(lst)"
      ],
      "execution_count": null,
      "outputs": [
        {
          "output_type": "execute_result",
          "data": {
            "text/plain": [
              "96"
            ]
          },
          "metadata": {
            "tags": []
          },
          "execution_count": 4
        }
      ]
    },
    {
      "cell_type": "markdown",
      "metadata": {
        "id": "kHdrQEkfGpVB"
      },
      "source": [
        "## Numpy Operations"
      ]
    },
    {
      "cell_type": "code",
      "metadata": {
        "id": "vC6EMqXkGWsx",
        "colab": {
          "base_uri": "https://localhost:8080/"
        },
        "outputId": "29969604-2514-4d23-a353-b175fe3fdf2b"
      },
      "source": [
        "lst = [5, 10, 0, 200] \n",
        "arr = np.array(lst)\n",
        "print(arr + 5)\n",
        "# Output:\n",
        "# [10, 15, 5, 205] "
      ],
      "execution_count": null,
      "outputs": [
        {
          "output_type": "stream",
          "text": [
            "[ 10  15   5 205]\n"
          ],
          "name": "stdout"
        }
      ]
    },
    {
      "cell_type": "code",
      "metadata": {
        "id": "5KehlbMGGmW7",
        "colab": {
          "base_uri": "https://localhost:8080/"
        },
        "outputId": "cf09afd5-c515-4cb0-f754-4f4d66ccdc4a"
      },
      "source": [
        "lst = [1, 2, 3, 'text', True, 3+2j] \n",
        "arr = np.array(lst)\n",
        "print(type(arr[0]),type(arr[4]), type(arr[5]))\n",
        "# Output:\n",
        "# <class 'numpy.str_'> <class 'numpy.str_'> <class 'numpy.str_'> "
      ],
      "execution_count": null,
      "outputs": [
        {
          "output_type": "stream",
          "text": [
            "<class 'numpy.str_'> <class 'numpy.str_'> <class 'numpy.str_'>\n"
          ],
          "name": "stdout"
        }
      ]
    },
    {
      "cell_type": "code",
      "metadata": {
        "id": "WAw0NrABGy1E",
        "colab": {
          "base_uri": "https://localhost:8080/"
        },
        "outputId": "075025ae-a5cb-4221-aefb-31baad986c24"
      },
      "source": [
        "lst = [56, 45, 12, 6]\n",
        "arr = np.array(lst)\n",
        "print(arr.nbytes)\n",
        "# Output:\n",
        "# 16 "
      ],
      "execution_count": null,
      "outputs": [
        {
          "output_type": "stream",
          "text": [
            "32\n"
          ],
          "name": "stdout"
        }
      ]
    },
    {
      "cell_type": "markdown",
      "metadata": {
        "id": "-97nEtEjHjFq"
      },
      "source": [
        "## Numpy Array Creation:"
      ]
    },
    {
      "cell_type": "code",
      "metadata": {
        "id": "G2L5zJzJG4WH",
        "colab": {
          "base_uri": "https://localhost:8080/"
        },
        "outputId": "6cd3618b-0f01-4c13-d5bd-32ac9e1f8c44"
      },
      "source": [
        "arr = np.array([2,5,6,8], dtype = int)\n",
        "print(arr)\n",
        "# [2 5 6 8]\n",
        "print(type(arr))\n",
        "# class 'numpy.ndarray'\n",
        "print(np.result_type(arr))\n",
        "# int32 \n",
        " \n"
      ],
      "execution_count": null,
      "outputs": [
        {
          "output_type": "stream",
          "text": [
            "[2 5 6 8]\n",
            "<class 'numpy.ndarray'>\n",
            "int64\n"
          ],
          "name": "stdout"
        }
      ]
    },
    {
      "cell_type": "code",
      "metadata": {
        "id": "bO918JErHm47",
        "colab": {
          "base_uri": "https://localhost:8080/"
        },
        "outputId": "ff8402d7-138b-4ff4-d611-06a3493d2375"
      },
      "source": [
        " ''' Creation of an array with step size 1.33 between 0 - 10 '''\n",
        "print(np.arange(0, 10, 1.33, dtype = np.float64))\n",
        "# [ 0.    1.33  2.66  3.99  5.32  6.65  7.98  9.31]\n",
        "# arange() gives uncertain number of values based on steps\n",
        "# Hence, we use linspace, which asks for total number of values \n",
        "''' Creation of an array with total 5 values between 0 - 160 '''\n",
        "print(np.linspace(0, 160, 5, dtype = np.float64))\n",
        "# [   0.   40.   80.  120.  160.] "
      ],
      "execution_count": null,
      "outputs": [
        {
          "output_type": "stream",
          "text": [
            "[0.   1.33 2.66 3.99 5.32 6.65 7.98 9.31]\n",
            "[  0.  40.  80. 120. 160.]\n"
          ],
          "name": "stdout"
        }
      ]
    },
    {
      "cell_type": "markdown",
      "metadata": {
        "id": "2nFCq4PcH7Vk"
      },
      "source": [
        "## Numpy Matrix Creation:"
      ]
    },
    {
      "cell_type": "code",
      "metadata": {
        "id": "97s9XlAYHxJ9",
        "colab": {
          "base_uri": "https://localhost:8080/"
        },
        "outputId": "e5f118b6-ed46-4ec2-d110-fc4b92345b0b"
      },
      "source": [
        "''' Method I: Using array and reshape to convert array into matrix '''\n",
        "print(np.array([5,6,8,45,12,52]).reshape(2,3))\n",
        "# [[ 5  6  8]\n",
        "#  [45 12 52]]\n",
        "''' Method II: Using matrix function '''\n",
        "print(np.matrix([[1,2],\n",
        "                [3,4]]))\n",
        "# [[1 2]\n",
        "#  [3 4]]\n",
        "''' Method III: Using misc. functions '''\n",
        "print(np.eye(3)) # Identity matrix\n",
        "# [[ 1.  0.  0.]\n",
        "#  [ 0.  1.  0.]\n",
        "#  [ 0.  0.  1.]]\n",
        "print( np.zeros( (4,3) ) )\n",
        "# [[ 0.  0.  0.]\n",
        "#  [ 0.  0.  0.]\n",
        "#  [ 0.  0.  0.]\n",
        "#  [ 0.  0.  0.]]\n",
        "print(np.ones( (3,3), dtype = np.float64 ))\n",
        "# [[ 1.  1.  1.]\n",
        "#  [ 1.  1.  1.]\n",
        "#  [ 1.  1.  1.]]"
      ],
      "execution_count": null,
      "outputs": [
        {
          "output_type": "stream",
          "text": [
            "[[ 5  6  8]\n",
            " [45 12 52]]\n",
            "[[1 2]\n",
            " [3 4]]\n",
            "[[1. 0. 0.]\n",
            " [0. 1. 0.]\n",
            " [0. 0. 1.]]\n",
            "[[0. 0. 0.]\n",
            " [0. 0. 0.]\n",
            " [0. 0. 0.]\n",
            " [0. 0. 0.]]\n",
            "[[1. 1. 1.]\n",
            " [1. 1. 1.]\n",
            " [1. 1. 1.]]\n"
          ],
          "name": "stdout"
        }
      ]
    },
    {
      "cell_type": "markdown",
      "metadata": {
        "id": "cCoG6XsvItVO"
      },
      "source": [
        "### Excercise:"
      ]
    },
    {
      "cell_type": "code",
      "metadata": {
        "id": "r5_t2i9BIAQX",
        "colab": {
          "base_uri": "https://localhost:8080/"
        },
        "outputId": "caebe20f-cc5c-48bf-f444-02bb9468f85d"
      },
      "source": [
        "arr1 = np.array([25, 56, 12, 85, 34, 75])\n",
        "arr2 = np.array([42, 3, 86, 32, 856, 46])\n",
        "arr1.astype(np.complex)\n",
        "Narr = np.random.rand(arr1.shape[-1])\n",
        "print(arr1)\n",
        "print(np.result_type(arr1))"
      ],
      "execution_count": null,
      "outputs": [
        {
          "output_type": "stream",
          "text": [
            "[25 56 12 85 34 75]\n",
            "int64\n"
          ],
          "name": "stdout"
        }
      ]
    },
    {
      "cell_type": "code",
      "metadata": {
        "id": "5vnLU3VYI-C9",
        "colab": {
          "base_uri": "https://localhost:8080/"
        },
        "outputId": "e3a444a5-a0ea-423e-ca57-70fe3868b8f6"
      },
      "source": [
        "arr1_mat = arr1.reshape((2, 3))\n",
        "print(arr1_mat)\n",
        "arr2_mat = arr2.reshape((2, 3))\n",
        "print(arr2_mat)\n",
        "print((arr1_mat*arr1_mat-arr2_mat*arr2_mat)/(arr1_mat - arr2_mat))"
      ],
      "execution_count": null,
      "outputs": [
        {
          "output_type": "stream",
          "text": [
            "[[25 56 12]\n",
            " [85 34 75]]\n",
            "[[ 42   3  86]\n",
            " [ 32 856  46]]\n",
            "[[ 67.  59.  98.]\n",
            " [117. 890. 121.]]\n"
          ],
          "name": "stdout"
        }
      ]
    },
    {
      "cell_type": "code",
      "metadata": {
        "id": "mWf5WPycJ61o",
        "colab": {
          "base_uri": "https://localhost:8080/"
        },
        "outputId": "8ca6d022-2630-4ef3-868d-c55cd3313096"
      },
      "source": [
        "arr1 = np.ones(10)\n",
        "arr2 = np.arange(10, dtype=np.float64)\n",
        "arr3 = arr1+arr2\n",
        "print(np.result_type(arr1))\n",
        "print(np.result_type(arr2))"
      ],
      "execution_count": null,
      "outputs": [
        {
          "output_type": "stream",
          "text": [
            "float64\n",
            "float64\n"
          ],
          "name": "stdout"
        }
      ]
    },
    {
      "cell_type": "code",
      "metadata": {
        "colab": {
          "base_uri": "https://localhost:8080/"
        },
        "id": "hlKRUL995QT4",
        "outputId": "6d8657a0-68aa-45cf-ddec-27a03a72d8d2"
      },
      "source": [
        "arr = np.arange(4)\n",
        "print(arr.shape)"
      ],
      "execution_count": null,
      "outputs": [
        {
          "output_type": "stream",
          "text": [
            "(4,)\n"
          ],
          "name": "stdout"
        }
      ]
    },
    {
      "cell_type": "code",
      "metadata": {
        "colab": {
          "base_uri": "https://localhost:8080/"
        },
        "id": "sbs8-FIc5pvf",
        "outputId": "75a4cd4f-452e-49cf-ccc1-65910b6a927e"
      },
      "source": [
        "arr = np.arange(4).reshape(4, -1)\n",
        "print(arr.shape)"
      ],
      "execution_count": null,
      "outputs": [
        {
          "output_type": "stream",
          "text": [
            "(4, 1)\n"
          ],
          "name": "stdout"
        }
      ]
    },
    {
      "cell_type": "code",
      "metadata": {
        "id": "FZeWdanO5-jO",
        "colab": {
          "base_uri": "https://localhost:8080/"
        },
        "outputId": "2fbc7447-884a-4ebb-94c1-fbd29f8e54b6"
      },
      "source": [
        "# Create a 4 x 4 matrix and add values 4,5,6 above the parent diagonal.\n",
        "mat = np.array([[1,21,3],[5,4,2],[56,12,4]])\n",
        "np.diag([4,5,6], 1)"
      ],
      "execution_count": 8,
      "outputs": [
        {
          "output_type": "execute_result",
          "data": {
            "text/plain": [
              "array([[0, 4, 0, 0],\n",
              "       [0, 0, 5, 0],\n",
              "       [0, 0, 0, 6],\n",
              "       [0, 0, 0, 0]])"
            ]
          },
          "metadata": {
            "tags": []
          },
          "execution_count": 8
        }
      ]
    },
    {
      "cell_type": "code",
      "metadata": {
        "colab": {
          "base_uri": "https://localhost:8080/"
        },
        "id": "KI4J-eWC_-4x",
        "outputId": "19c67c88-8beb-4999-9133-4b5f0519d65e"
      },
      "source": [
        "# Given a Numpy array arr = np.arange(11), negate all the elements between 6 and 10.\n",
        "arr = np.arange(11)\n",
        "print(arr)\n",
        "np.where((arr>6) & (arr<10), arr*-1, arr)"
      ],
      "execution_count": 9,
      "outputs": [
        {
          "output_type": "stream",
          "text": [
            "[ 0  1  2  3  4  5  6  7  8  9 10]\n"
          ],
          "name": "stdout"
        },
        {
          "output_type": "execute_result",
          "data": {
            "text/plain": [
              "array([ 0,  1,  2,  3,  4,  5,  6, -7, -8, -9, 10])"
            ]
          },
          "metadata": {
            "tags": []
          },
          "execution_count": 9
        }
      ]
    },
    {
      "cell_type": "code",
      "metadata": {
        "colab": {
          "base_uri": "https://localhost:8080/"
        },
        "id": "gtV9Gg81AMsF",
        "outputId": "61106aa1-5f88-47ea-bf40-28ba66eea483"
      },
      "source": [
        "\"\"\"\n",
        "Given a matrix mat and an array arr, for each row of the matrix if elements of \n",
        "Column 1 are equal to the corresponding element of the array, \n",
        "then print the corresponding value of Column 2 of the matrix.\n",
        "\"\"\"\n",
        "mat = np.array([['abc','A'],['def','B'],['ghi','C'],['jkl','D']])\n",
        "arr = np.array(['abc','dfe','ghi','kjl']) \n",
        "mat[np.where(mat[:,0]==arr)][:,1]"
      ],
      "execution_count": 10,
      "outputs": [
        {
          "output_type": "execute_result",
          "data": {
            "text/plain": [
              "array(['A', 'C'], dtype='<U3')"
            ]
          },
          "metadata": {
            "tags": []
          },
          "execution_count": 10
        }
      ]
    },
    {
      "cell_type": "code",
      "metadata": {
        "colab": {
          "base_uri": "https://localhost:8080/"
        },
        "id": "Nl3ya_AfBnfX",
        "outputId": "e0c7b33f-44b9-4a21-b3fc-8ee99b35e0f3"
      },
      "source": [
        "#  Given a matrix mat, sort it by the second column.\n",
        "mat = np.array([[1,21,3],[5,4,2],[56,12,4]])\n",
        "print(mat[mat[:,1].argsort()])"
      ],
      "execution_count": 13,
      "outputs": [
        {
          "output_type": "stream",
          "text": [
            "[[ 5  4  2]\n",
            " [56 12  4]\n",
            " [ 1 21  3]]\n"
          ],
          "name": "stdout"
        }
      ]
    },
    {
      "cell_type": "code",
      "metadata": {
        "colab": {
          "base_uri": "https://localhost:8080/"
        },
        "id": "l6yKxPFNB66X",
        "outputId": "13970892-1b81-4b68-9938-ba3ecec944fb"
      },
      "source": [
        "# Given an array arr, find the top 4 maximum values.\n",
        "arr = np.array([90, 14, 24, 13, 13, 590, 0, 45, 16, 50])\n",
        "arr[np.argpartition(arr, -4)[-4:]] # Note: Argpartition don't return array in sorted manner"
      ],
      "execution_count": 15,
      "outputs": [
        {
          "output_type": "execute_result",
          "data": {
            "text/plain": [
              "array([ 45,  50, 590,  90])"
            ]
          },
          "metadata": {
            "tags": []
          },
          "execution_count": 15
        }
      ]
    },
    {
      "cell_type": "code",
      "metadata": {
        "id": "Q0yZCZ3DCdLg",
        "outputId": "3a410215-682e-47e3-dc0a-ca0f58d6fc4a",
        "colab": {
          "base_uri": "https://localhost:8080/"
        }
      },
      "source": [
        "# Find the nearest number from the given number in an array.\n",
        "arr = np.array([10,55,22,3,6,44,9,54])\n",
        "nearest_to = 50\n",
        "arr[np.abs(arr-nearest_to).argmin()]"
      ],
      "execution_count": 16,
      "outputs": [
        {
          "output_type": "execute_result",
          "data": {
            "text/plain": [
              "54"
            ]
          },
          "metadata": {
            "tags": []
          },
          "execution_count": 16
        }
      ]
    },
    {
      "cell_type": "code",
      "metadata": {
        "id": "LKaapuE-DlkW"
      },
      "source": [
        ""
      ],
      "execution_count": null,
      "outputs": []
    }
  ]
}